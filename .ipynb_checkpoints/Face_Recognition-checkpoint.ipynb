{
 "cells": [
  {
   "cell_type": "markdown",
   "metadata": {},
   "source": [
    "## ------------------------------------------------------------------------------------------------\n",
    "# Face Recognition\n",
    "## ------------------------------------------------------------------------------------------------"
   ]
  },
  {
   "cell_type": "code",
   "execution_count": 1,
   "metadata": {},
   "outputs": [],
   "source": [
    "import cv2\n",
    "import numpy as np\n",
    "from os import listdir\n",
    "from os.path import isfile, join\n",
    "import os\n",
    "import threading\n",
    "\n",
    "#Custom module\n",
    "# import mail # To send a Mail\n",
    "# import WhatsApp # To Send Whatsapp msg\n",
    "# import AWS # To launch infrastructure using Terraform\n",
    "\n",
    "face_classifier = cv2.CascadeClassifier('haarcascade_frontalface_default.xml')  # To detect a face"
   ]
  },
  {
   "cell_type": "markdown",
   "metadata": {},
   "source": [
    "## ------------------------------------------------------------------------------------------------\n",
    "# Load the model of person1 and person2 \n",
    "## ------------------------------------------------------------------------------------------------"
   ]
  },
  {
   "cell_type": "code",
   "execution_count": 2,
   "metadata": {},
   "outputs": [
    {
     "name": "stdout",
     "output_type": "stream",
     "text": [
      "\n",
      "\n",
      "-----------------------------------\n",
      "\n",
      " Person1 trained model is loaded successfully.\n",
      "\n",
      "-----------------------------------\n",
      "\n",
      "\n",
      "-----------------------------------\n",
      "\n",
      " Person2 trained model is loaded successfully.\n",
      "\n",
      "-----------------------------------\n"
     ]
    }
   ],
   "source": [
    "display_saved_model = lambda person: print(f\"\\n\\n{'-'*35}\\n\\n Person{person} trained model is loaded successfully.\\n\\n{'-'*35}\")\n",
    "person1_saved_model = cv2.face_LBPHFaceRecognizer.create() # Create Models\n",
    "person2_saved_model = cv2.face_LBPHFaceRecognizer.create()\n",
    "# Load First Model\n",
    "person1_saved_model.read('./saved_model/person1_model.yml')\n",
    "display_saved_model(\"1\")\n",
    "# Load Second Model\n",
    "person2_saved_model.read('./saved_model/person2_model.yml')\n",
    "display_saved_model(\"2\")"
   ]
  },
  {
   "cell_type": "markdown",
   "metadata": {},
   "source": [
    "## ------------------------------------------------------------------------------------------------\n",
    "\n",
    "# Recognize person1 face :\n",
    "\n",
    "## 1. Send Mail with the image of the person1.\n",
    "## 2. Send WhatsApp message to the given number.\n",
    "\n",
    "## ------------------------------------------------------------------------------------------------\n",
    "## ------------------------------------------------------------------------------------------------\n",
    "\n",
    "\n",
    "# Recognize person2 face :\n",
    "\n",
    "## Orchestrate EC2 instance and EBS volume (& attach both) on AWS using Terraform.\n",
    "\n",
    "## ------------------------------------------------------------------------------------------------"
   ]
  },
  {
   "cell_type": "code",
   "execution_count": 3,
   "metadata": {},
   "outputs": [
    {
     "name": "stdout",
     "output_type": "stream",
     "text": [
      "---------------------------------------------\n",
      "--> Vara's face Recognized.\n",
      "---------------------------------------------\n",
      "\n",
      "---------------------------------------------\n",
      "1. Mail send with the person1 image.\n",
      "---------------------------------------------\n",
      "\n",
      "---------------------------------------------\n",
      "2. WhatsApp message sent to the given phone number.\n",
      "---------------------------------------------\n",
      "\n",
      "---------------------------------------------\n",
      "--> Vinod's face Recognized.\n",
      "---------------------------------------------\n",
      "\n",
      "---------------------------------------------\n",
      "1. Orchestration on AWS using Terraform Started.\n",
      "---------------------------------------------\n",
      "\n",
      "---------------------------------------------\n",
      "\t\tDone!\n",
      "---------------------------------------------\n",
      "\n"
     ]
    }
   ],
   "source": [
    "cap = cv2.VideoCapture(0)                                # Open Webcam\n",
    "flag1,flag2=False,False\n",
    "disStr = lambda string: print(f\"{'-'*45}\\n{ string }\\n{'-'*45}\\n\") # Display String\n",
    "def face_detector(img):  # Face detector\n",
    "    # Convert image to grayscale\n",
    "    gray = cv2.cvtColor(img,cv2.COLOR_BGR2GRAY)\n",
    "    faces = face_classifier.detectMultiScale(gray, 1.3, 5)\n",
    "    if faces is ():\n",
    "        return img, []\n",
    "    for (x,y,w,h) in faces:\n",
    "        cv2.rectangle(img,(x,y),(x+w,y+h),(0,255,255),2) # Draw Rectangle\n",
    "        roi = img[y:y+h, x:x+w]                          # Crop Image\n",
    "        roi = cv2.resize(roi, (200, 200))                # Risize Image\n",
    "    return img, roi                                      # Return croped image\n",
    "\n",
    "while True:\n",
    "    ret, frame = cap.read()\n",
    "    image1, face1 = face_detector(frame)\n",
    "    image2, face2 = face_detector(frame)\n",
    "    try:\n",
    "        face1,face2 = cv2.cvtColor(face1, cv2.COLOR_BGR2GRAY),cv2.cvtColor(face2, cv2.COLOR_BGR2GRAY)\n",
    "                              \n",
    "        # Pass face to prediction model\n",
    "        # \"results\" comprises of a tuple containing the label and the confidence value\n",
    "        result1,result2 = person1_saved_model.predict(face1), person2_saved_model.predict(face2)\n",
    "        if result1[1] < 500:        #person1\n",
    "            confidence1 = int( 100 * (1 - (result1[1])/400) )   # Converts Confidece to Percentage\n",
    "            if confidence1 > 89:\n",
    "                display_string = str(confidence1) + '% Confident of Vara'\n",
    "                cv2.putText(image1, display_string, (50, 60), cv2.FONT_HERSHEY_COMPLEX, 1, (0,255,0), 2) #50 60\n",
    "\n",
    "        if result2[1] < 500:        #person2\n",
    "            confidence2 = int( 100 * (1 - (result2[1])/400) )   # Converts Confidece to Percentage\n",
    "            if confidence2 > 89:\n",
    "                display_string = str(confidence2) + '% Confident of Vinod'  \n",
    "                cv2.putText(image2, display_string, (80, 90), cv2.FONT_HERSHEY_COMPLEX, 1, (0,255,0), 2) #100 120\n",
    "\n",
    "        if confidence1 > 89 and flag1 == False:        #person1\n",
    "            cv2.imshow('Face Recognition', image1 )\n",
    "            disStr(\"--> Vara's face Recognized.\")\n",
    "            mail.securityMail()\n",
    "            disStr(\"1. Mail send with the person1 image.\")\n",
    "            WhatsApp.message()\n",
    "            disStr(\"2. WhatsApp message sent to the given phone number.\")\n",
    "            flag1 =True\n",
    "                              \n",
    "        if confidence2 > 89 and flag2 == False:        #person2\n",
    "            cv2.imshow('Face Recognition', image2 )\n",
    "            disStr(\"--> Vinod's face Recognized.\")\n",
    "            AWS.ec2_va()\n",
    "            disStr(\"1. Orchestration on AWS using Terraform Started.\")\n",
    "            flag2 =True   \n",
    "                              \n",
    "        else:\n",
    "            addConfText = lambda image,person,x: (\n",
    "                        cv2.putText(image, f\"{ person }_True\", (x, 450), cv2.FONT_HERSHEY_COMPLEX, 1,(255,0,0), 2),\n",
    "                        cv2.imshow('Face Recognition', image )\n",
    "                                                )\n",
    "            confidence1 > 89 and addConfText(image1,\"VK\",200)            #person1\n",
    "            confidence2 > 89 and addConfText(image2,\"VL\",350)            #person2\n",
    "    except:\n",
    "        addText = lambda image: (\n",
    "                                    cv2.putText(image, \"No Face Found\", (200, 100),\n",
    "                                    cv2.FONT_HERSHEY_COMPLEX, 1, (0,0,255), 2),\n",
    "                                    cv2.putText(image, \"looking for face\", (300, 500), cv2.FONT_HERSHEY_COMPLEX, 1, (0,0,255), 2),\n",
    "                                    cv2.imshow('Face Recognition', image )\n",
    "                                )\n",
    "        addText(image1)        #person1\n",
    "        addText(image2)        #person2\n",
    "    if cv2.waitKey(1) == 13:   #13 is the Enter Key\n",
    "        break   \n",
    "cap.release()\n",
    "cv2.destroyAllWindows() \n",
    "disStr(\"\\t\\tDone!\")"
   ]
  },
  {
   "cell_type": "code",
   "execution_count": null,
   "metadata": {},
   "outputs": [],
   "source": []
  }
 ],
 "metadata": {
  "kernelspec": {
   "display_name": "Python 3",
   "language": "python",
   "name": "python3"
  },
  "language_info": {
   "codemirror_mode": {
    "name": "ipython",
    "version": 3
   },
   "file_extension": ".py",
   "mimetype": "text/x-python",
   "name": "python",
   "nbconvert_exporter": "python",
   "pygments_lexer": "ipython3",
   "version": "3.7.4"
  }
 },
 "nbformat": 4,
 "nbformat_minor": 2
}
